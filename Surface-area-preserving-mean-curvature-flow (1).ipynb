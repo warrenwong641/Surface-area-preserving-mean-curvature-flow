{
 "cells": [
  {
   "cell_type": "code",
   "execution_count": 13,
   "id": "d3cecc17-fb56-4ce6-a885-0f4eab3dabe2",
   "metadata": {
    "tags": []
   },
   "outputs": [
    {
     "data": {
      "text/plain": [
       "[<matplotlib.lines.Line2D at 0x1463ec483d0>]"
      ]
     },
     "execution_count": 13,
     "metadata": {},
     "output_type": "execute_result"
    },
    {
     "data": {
      "image/png": "[encoded data removed]",
      "text/plain": [
       "<Figure size 640x480 with 1 Axes>"
      ]
     },
     "metadata": {},
     "output_type": "display_data"
    }
   ],
   "source": [
    "import numpy as np\n",
    "from scipy.integrate import odeint\n",
    "import matplotlib.pyplot as plt\n",
    "\n",
    "theta = np.linspace(0, 2*np.pi, 128)\n",
    "\n",
    "#curve \n",
    "n = 5\n",
    "epsilon = 0.1\n",
    "space_theta = theta[1] - theta[0]\n",
    "r = 1 + epsilon*np.cos(n*theta)\n",
    "X = r*np.cos(theta)\n",
    "Y = r*np.sin(theta)\n",
    "\n",
    "X_forward_one = np.roll(X, shift=1) #shift element in X array to the right by one unit\n",
    "Y_forward_one = np.roll(Y, shift=1) #shift element in Y array to the right by one unit\n",
    "\n",
    "length_curve_initial = np.linalg.norm(np.sqrt((X_forward_one-X)**2+ (Y_forward_one-Y)**2),1) # length of initial curve\n",
    "length_curve_list = [] #store the difference between length of curve at each time and length of initial curve \n",
    "t_interval = [] # record the corresponding time of each element in length_curve_list\n",
    "\n",
    "def myode(y, t, h, H, N):\n",
    "    return (1 - h*H)*N\n",
    "\n",
    "def simpson(h,integrand): # function for simpson rule\n",
    "    integral_value = 0\n",
    "    i = 0\n",
    "    integrand_forward = np.concatenate([[integrand[-1]], integrand[:-1]])\n",
    "    integrand_backward = np.concatenate([integrand[1:], [integrand[0]]])\n",
    "    while i < len(integrand):\n",
    "        integral_value = integral_value + h*(integrand_forward[i] + 4*integrand[i] + integrand_backward[i])/3\n",
    "        i = i + 1\n",
    "    return integral_value\n",
    "\n",
    "def mean_curvature(theta, r): #function for calculating mean curvature\n",
    "    space_theta = theta[1] - theta[0]\n",
    "    r_prime = np.gradient(np.concatenate([[r[-1]], r, [r[0]]]), space_theta)[1:-1]\n",
    "    r_double_prime = np.gradient(np.concatenate([[r_prime[-1]], r_prime, [r_prime[0]]]), space_theta)[1:-1]\n",
    "    H = (2*(r_prime**2) + r**2 - r*r_double_prime)/((r_prime**2 + r**2)**1.5)\n",
    "    return H\n",
    "\n",
    "for i in range(10000):\n",
    "\n",
    "    r = np.sqrt(X**2 + Y**2) #radius at each moment\n",
    "\n",
    "    #unit tangent\n",
    "    T_x = np.gradient(np.concatenate([[X[-1]], X, [X[0]]]), space_theta)[1:-1]\n",
    "    T_y = np.gradient(np.concatenate([[Y[-1]], Y, [Y[0]]]), space_theta)[1:-1]\n",
    "    tangent_len = np.sqrt(T_x**2 + T_y**2)\n",
    "    T_x = T_x/tangent_len\n",
    "    T_y = T_y/tangent_len\n",
    "\n",
    "    #unit normal\n",
    "    N_x = T_y\n",
    "    N_y = -T_x\n",
    "\n",
    "    H = mean_curvature(theta, r)\n",
    "\n",
    "    #constant h\n",
    "    H_ds = H*np.sqrt(np.gradient(r, theta)**2 + r**2)\n",
    "    H_ds = np.concatenate([[H_ds[-1]], H_ds, [H_ds[0]]])\n",
    "\n",
    "    H2_ds = (H**2)*np.sqrt(np.gradient(r, theta)**2 + r**2)\n",
    "    H2_ds = np.concatenate([[H2_ds[-1]], H2_ds, [H2_ds[0]]])\n",
    "\n",
    "    h = simpson(space_theta, H_ds)/simpson(space_theta, H2_ds)\n",
    "\n",
    "    X_forward_one = np.roll(X, -1) #shift element in X array to the right by one unit\n",
    "    Y_forward_one = np.roll(Y, -1) #shift element in Y array to the right by one unit\n",
    "    length_curve = np.linalg.norm(np.sqrt((X_forward_one-X)**2+ (Y_forward_one-Y)**2),1) # calculate length of curve at this time\n",
    "    length_curve_list.append(length_curve-length_curve_initial) #append the difference between length of curve at this time and length of initial curve to the array\n",
    "    t_interval.append(0.01*i) #append the current time interval to time record array\n",
    "\n",
    "    #implementation of ode to find X and Y after dt = 0.01;\n",
    "    tspan = np.linspace(0,0.001, 500)\n",
    "    ic = X\n",
    "    x = odeint(myode, ic, tspan, args=(h,H,N_x))\n",
    "    X = x[-1]\n",
    "\n",
    "    ic = Y\n",
    "    y = odeint(myode, ic, tspan, args=(h,H,N_y))\n",
    "    Y = y[-1]\n",
    "\n",
    "    X_forward_one = np.roll(X, -1) #shift element in X array to the right by one unit\n",
    "    Y_forward_one = np.roll(Y, -1) #shift element in Y array to the right by one unit\n",
    "    length_curve = np.linalg.norm(np.sqrt((X_forward_one-X)**2+ (Y_forward_one-Y)**2),1) # calculate length of curve at this time\n",
    "    length_curve_list.append(length_curve-length_curve_initial) #append the difference between length of curve at this time and length of initial curve to the array\n",
    "    t_interval.append(0.001*i) #append the current time interval to time record array\n",
    "\n",
    "#plt.plot(t_interval, length_curve_list, 'bx') # plot the graphe of the difference between length of curve at this time and length of initial curve against time\n",
    "plt.plot(X, Y, 'rx') # plot the final curve"
   ]
  }
 ],
 "metadata": {
  "kernelspec": {
   "display_name": "Python 3 (ipykernel)",
   "language": "python",
   "name": "python3"
  },
  "language_info": {
   "codemirror_mode": {
    "name": "ipython",
    "version": 3
   },
   "file_extension": ".py",
   "mimetype": "text/x-python",
   "name": "python",
   "nbconvert_exporter": "python",
   "pygments_lexer": "ipython3",
   "version": "3.11.4"
  }
 },
 "nbformat": 4,
 "nbformat_minor": 5
}
